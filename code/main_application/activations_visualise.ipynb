{
 "cells": [
  {
   "cell_type": "markdown",
   "metadata": {},
   "source": [
    "Visualises activations of given CNN layers."
   ]
  },
  {
   "cell_type": "code",
   "execution_count": 1,
   "metadata": {},
   "outputs": [],
   "source": [
    "import matplotlib.pyplot as plt\n",
    "import numpy as np\n",
    "import tensorflow as tf\n",
    "from tensorflow.keras.models import load_model, Model\n",
    "\n",
    "model = load_model(\"model/VGG.h5\")"
   ]
  },
  {
   "cell_type": "code",
   "execution_count": 2,
   "metadata": {},
   "outputs": [],
   "source": [
    "NUM_CLASSES = 130\n",
    "CURR_CLASS = 4\n",
    "DATA_PATH = \"data/\"\n",
    "CLASSES = [\"dog\", \"bird\", \"berry\", \"flower\", \"other\"]"
   ]
  },
  {
   "cell_type": "code",
   "execution_count": 3,
   "metadata": {},
   "outputs": [],
   "source": [
    "from tensorflow.keras.preprocessing.image import load_img\n",
    "\n",
    "data = []\n",
    "for i in range(NUM_CLASSES):\n",
    "    path = DATA_PATH + CLASSES[CURR_CLASS] + \"/\" + str(i+1) + \"_256.jpg\"\n",
    "    img = load_img(path, target_size=(224, 224))\n",
    "    data.append(np.array(img))\n",
    "    \n",
    "data = np.asarray(data)"
   ]
  },
  {
   "cell_type": "code",
   "execution_count": 4,
   "metadata": {},
   "outputs": [],
   "source": [
    "from tensorflow.keras.models import Model\n",
    "layer_outputs = [layer.output for layer in model.layers]\n",
    "model_layers = Model(inputs=model.input, outputs=layer_outputs)\n",
    " \n",
    "def display_filters(activations, col, row, act_index): \n",
    "    act = activations[act_index]\n",
    "    idx=0\n",
    "    fig, ax = plt.subplots(row, col, gridspec_kw = {'wspace':0, 'hspace':0}, figsize=(7, 3))\n",
    "\n",
    "    for row in range(0,row):\n",
    "        for col in range(0,col):\n",
    "            pos = ax[row][col]\n",
    "            pos.imshow(act[0, :, :, idx])\n",
    "            pos.set_xticklabels([])\n",
    "            pos.set_yticklabels([])\n",
    "            idx += 1"
   ]
  },
  {
   "cell_type": "code",
   "execution_count": 5,
   "metadata": {},
   "outputs": [],
   "source": [
    "for i in range(NUM_CLASSES):\n",
    "    img =  np.expand_dims(data[i], axis=0)\n",
    "    layer_filters = model_layers.predict(img)\n",
    "    \n",
    "    fig = display_filters(layer_filters, 7, 3, 2)\n",
    "    path = DATA_PATH + CLASSES[CURR_CLASS] + \"/layers/\" + str(i+1) + \"VGG_first\" + \"_256.jpg\"\n",
    "    plt.savefig(path, bbox_inches='tight')\n",
    "    plt.close()\n",
    "    \n",
    "    fig = display_filters(layer_filters, 7, 3, 18)\n",
    "    path = DATA_PATH + CLASSES[CURR_CLASS] + \"/layers/\" + str(i+1) + \"VGG_last\" + \"_256.jpg\"\n",
    "    plt.savefig(path, bbox_inches='tight')\n",
    "    plt.close()"
   ]
  }
 ],
 "metadata": {
  "kernelspec": {
   "display_name": "Python 3",
   "language": "python",
   "name": "python3"
  },
  "language_info": {
   "codemirror_mode": {
    "name": "ipython",
    "version": 3
   },
   "file_extension": ".py",
   "mimetype": "text/x-python",
   "name": "python",
   "nbconvert_exporter": "python",
   "pygments_lexer": "ipython3",
   "version": "3.7.5"
  }
 },
 "nbformat": 4,
 "nbformat_minor": 2
}
